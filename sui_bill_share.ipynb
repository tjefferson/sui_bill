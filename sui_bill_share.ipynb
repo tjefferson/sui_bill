{
 "cells": [
  {
   "cell_type": "markdown",
   "id": "df64e180",
   "metadata": {},
   "source": [
    "## 微信账单到随手记\n",
    "\n",
    "### 1.获取微信账单\n",
    "1. 微信-我-设置-帮助与反馈\n",
    "2. 支付-账户问题-微信支付如何导出账单-点击这里-个人对账下载\n",
    "\n",
    "### 2.简单处理账单文件\n",
    "1. 去掉文档前面的描述性字符\n",
    "2. 将文档编码改为utf-8\n",
    "\n",
    "### 3.运行Python代码\n",
    "1. 将wechat_filepath的值更新为最新的导出文件\n",
    "2. 执行代码得到wechat_output.xls文件\n",
    "\n",
    "### 4.导入到随手记\n",
    "1. 打开web端地址：https://www.sui.com/data/index.jsp\n",
    "2. 新功能-导入导出-数据导入-随手记web版\n",
    "3. 选择文件-上传数据"
   ]
  },
  {
   "cell_type": "code",
   "execution_count": 1,
   "id": "aedb80c3-369c-4685-a2d8-d770f7b46bdf",
   "metadata": {
    "execution": {
     "iopub.execute_input": "2023-09-09T10:32:10.608935Z",
     "iopub.status.busy": "2023-09-09T10:32:10.608935Z",
     "iopub.status.idle": "2023-09-09T10:32:10.749137Z",
     "shell.execute_reply": "2023-09-09T10:32:10.749137Z",
     "shell.execute_reply.started": "2023-09-09T10:32:10.608935Z"
    }
   },
   "outputs": [],
   "source": [
    "#原始代码来自此文档：https://blog.csdn.net/luchengtao11/article/details/127340578\n",
    "\n",
    "from tkinter.messagebox import NO\n",
    "import xlrd\n",
    "import xlwt\n",
    "from xlutils.copy import copy\n",
    "from datetime import date, datetime\n",
    " \n",
    "import codecs\n",
    "import csv"
   ]
  },
  {
   "cell_type": "code",
   "execution_count": 2,
   "id": "edd6a668",
   "metadata": {
    "execution": {
     "iopub.execute_input": "2023-09-09T10:32:10.749137Z",
     "iopub.status.busy": "2023-09-09T10:32:10.749137Z",
     "iopub.status.idle": "2023-09-09T10:32:10.761207Z",
     "shell.execute_reply": "2023-09-09T10:32:10.761207Z",
     "shell.execute_reply.started": "2023-09-09T10:32:10.749137Z"
    }
   },
   "outputs": [],
   "source": [
    "template_filepath = 'template_update.xls'\n",
    "wechat_filepath = '微信支付账单(20230806-20230909).csv'"
   ]
  },
  {
   "cell_type": "code",
   "execution_count": 3,
   "id": "a3ec3538",
   "metadata": {
    "execution": {
     "iopub.execute_input": "2023-09-09T10:32:10.761207Z",
     "iopub.status.busy": "2023-09-09T10:32:10.761207Z",
     "iopub.status.idle": "2023-09-09T10:32:10.926331Z",
     "shell.execute_reply": "2023-09-09T10:32:10.926331Z",
     "shell.execute_reply.started": "2023-09-09T10:32:10.761207Z"
    },
    "tags": []
   },
   "outputs": [
    {
     "name": "stdout",
     "output_type": "stream",
     "text": [
      "所有的工作表： ['支出', '收入', '转账']\n",
      "工作表名称：支出，行数：2，列数：11\n"
     ]
    }
   ],
   "source": [
    "read_book = xlrd.open_workbook(template_filepath, formatting_info=False)\n",
    "\n",
    "print('所有的工作表：', read_book.sheet_names())\n",
    "r_expense_sheet = read_book.sheet_names()[0]\n",
    "\n",
    "r_expense_sheet = read_book.sheet_by_index(0)\n",
    " \n",
    "print('工作表名称：%s，行数：%d，列数：%d' %\n",
    "      (r_expense_sheet.name, r_expense_sheet.nrows, r_expense_sheet.ncols))\n",
    "head: list = r_expense_sheet.row_values(0)\n",
    "index = head.index('交易类型')\n",
    " \n",
    "write_book = copy(read_book)\n",
    "expense_sheet = write_book.get_sheet(0)\n",
    "assert expense_sheet.get_name() == '支出'\n",
    " \n",
    "with codecs.open(wechat_filepath, encoding='utf-8') as f:\n",
    "    r = 1\n",
    "    for row in csv.DictReader(f, skipinitialspace=True):\n",
    "        new_row = {}\n",
    "        for k in row:\n",
    "            new_row[k.strip()] = row[k].strip()\n",
    "        # 只记支出\n",
    "        if new_row['收/支'] == '收入':\n",
    "            continue\n",
    "        # 退款的不用记\n",
    "        if new_row['当前状态'] in ('已全额退款', '对方已退还'):\n",
    "            continue\n",
    "        # Jeff update，转账的需要记\n",
    "        if new_row[\"交易类型\"] in ('零钱充值'):\n",
    "            continue\n",
    "        expense_sheet.write(r, head.index('交易类型'), '支出')\n",
    "        \n",
    "        #Jeff 增加交易时间的转换，解决最后上传时日期解析问题\n",
    "        trasaction_datetime = datetime.strptime(new_row['交易时间'], '%Y/%m/%d %H:%M')\n",
    "        trasaction_datetime = datetime.strftime(trasaction_datetime, '%Y-%m-%d %H:%M')\n",
    "        expense_sheet.write(r, head.index('日期'), trasaction_datetime)\n",
    "       \n",
    "        # 部分导入后部分还是要手动分类\n",
    "        if new_row['交易对方']  == '深圳通':\n",
    "            expense_sheet.write(r, head.index('分类'), '公共交通')\n",
    "            expense_sheet.write(r, head.index('项目'), '交通费')\n",
    "        elif new_row['交易对方']  == 'xx': # 请换成自己想要自动分类的\n",
    "            expense_sheet.write(r, head.index('分类'), '早午晚餐')\n",
    "            expense_sheet.write(r, head.index('项目'), '吃饭大事')\n",
    "        elif new_row['交易对方']  == 'xxx': # 请换成自己想要自动分类的\n",
    "            expense_sheet.write(r, head.index('分类'), '水果零食')\n",
    "            expense_sheet.write(r, head.index('项目'), '水果零食')\n",
    "        elif new_row['交易对方']  == 'xxxx': # 请换成自己想要自动分类的\n",
    "            expense_sheet.write(r, head.index('分类'), '早午晚餐')\n",
    "            expense_sheet.write(r, head.index('项目'), '吃饭大事')\n",
    "        else:\n",
    "            expense_sheet.write(r, head.index('分类'), '其他杂项')\n",
    "            expense_sheet.write(r, head.index('项目'), '')\n",
    "        \n",
    "        expense_sheet.write(r, head.index('账户1'), '现金')\n",
    "        expense_sheet.write(r, head.index('金额'), new_row['金额(元)'][1:])\n",
    "        expense_sheet.write(r, head.index('商家'), new_row['交易对方'])\n",
    "        expense_sheet.write(r, head.index('备注'), new_row['商品'])\n",
    "        r += 1\n",
    "write_book.save('wechat_output.xls')"
   ]
  }
 ],
 "metadata": {
  "kernelspec": {
   "display_name": "Python 3 (ipykernel)",
   "language": "python",
   "name": "python3"
  },
  "language_info": {
   "codemirror_mode": {
    "name": "ipython",
    "version": 3
   },
   "file_extension": ".py",
   "mimetype": "text/x-python",
   "name": "python",
   "nbconvert_exporter": "python",
   "pygments_lexer": "ipython3",
   "version": "3.9.12"
  }
 },
 "nbformat": 4,
 "nbformat_minor": 5
}
